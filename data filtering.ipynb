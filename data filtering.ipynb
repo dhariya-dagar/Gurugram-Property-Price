{
 "cells": [
  {
   "cell_type": "code",
   "execution_count": 1,
   "id": "cbe062d5",
   "metadata": {},
   "outputs": [
    {
     "name": "stdout",
     "output_type": "stream",
     "text": [
      "Initial Data:\n",
      "<class 'pandas.core.frame.DataFrame'>\n",
      "RangeIndex: 1445 entries, 0 to 1444\n",
      "Data columns (total 6 columns):\n",
      " #   Column     Non-Null Count  Dtype \n",
      "---  ------     --------------  ----- \n",
      " 0   sector     1445 non-null   int64 \n",
      " 1   size       1445 non-null   int64 \n",
      " 2   Title      1440 non-null   object\n",
      " 3   Price      1445 non-null   object\n",
      " 4   Area_SqFt  1445 non-null   object\n",
      " 5   link       1445 non-null   object\n",
      "dtypes: int64(2), object(4)\n",
      "memory usage: 67.9+ KB\n",
      "None\n",
      "   sector  size                       Title       Price   Area_SqFt  \\\n",
      "0     102     1                 ROF AALAYAS     ₹38 Lac    403 sqft   \n",
      "1     102     1                 ROF AALAYAS  ₹37.25 Lac    430 sqft   \n",
      "2     102     1                 ROF AALAYAS   ₹37.5 Lac    410 sqft   \n",
      "3     102     1  SIGNATURE GLOBAL CITY 7...    ₹1.72 Cr  1,325 sqft   \n",
      "4     102     1      CONSCIENT HERITAGE MAX     ₹20 Lac    200 sqft   \n",
      "\n",
      "                                                link  \n",
      "0  https://www.99acres.com/1-bhk-bedroom-apartmen...  \n",
      "1  https://www.99acres.com/1-bhk-bedroom-apartmen...  \n",
      "2  https://www.99acres.com/1-bhk-bedroom-apartmen...  \n",
      "3  https://www.99acres.com/3-bhk-bedroom-independ...  \n",
      "4  https://www.99acres.com/1-bhk-bedroom-apartmen...  \n"
     ]
    }
   ],
   "source": [
    "import pandas as pd\n",
    "import re\n",
    "\n",
    "df = pd.read_excel('gurugram_property.xlsx')\n",
    "print(\"Initial Data:\")\n",
    "print(df.info())\n",
    "print(df.head())"
   ]
  },
  {
   "cell_type": "code",
   "execution_count": null,
   "id": "9ab90f4f",
   "metadata": {},
   "outputs": [],
   "source": [
    "def clean_price(price_str):\n",
    "    # Ensure input is a string and make it lowercase\n",
    "    price_str = str(price_str).lower()\n",
    "    \n",
    "    try:\n",
    "        # Find the first number (integer or decimal) in the string\n",
    "        num_str = re.findall(r'[\\d\\.]+', price_str)[0]\n",
    "        num = float(num_str)\n",
    "        \n",
    "        # Check for 'cr' (crore) and multiply accordingly\n",
    "        if 'cr' in price_str:\n",
    "            return num * 1_00_00_000\n",
    "        # Check for 'lac' (lakh) and multiply accordingly\n",
    "        elif 'lac' in price_str:\n",
    "            return num * 1_00_000\n",
    "        # If no 'cr' or 'lac', return the number as is (assuming it's already in Rupees)\n",
    "        else:\n",
    "            # Also handle cases with commas, like '12,50,00,000'\n",
    "            just_digits = re.sub(r'[^\\d]', '', price_str)\n",
    "            return float(just_digits)\n",
    "            \n",
    "    except (IndexError, ValueError):\n",
    "        # If no number is found or conversion fails (e.g., \"Price on Request\")\n",
    "        return pd.NA \n"
   ]
  },
  {
   "cell_type": "code",
   "execution_count": null,
   "id": "97e9ad7d",
   "metadata": {},
   "outputs": [],
   "source": [
    "def clean_area(area_str):\n",
    "    # Ensure input is a string\n",
    "    area_str = str(area_str)\n",
    "    \n",
    "    try:\n",
    "        # First, remove commas from the string to handle values like \"1,325\"\n",
    "        area_str_no_commas = area_str.replace(',', '')\n",
    "        \n",
    "        # Find the first number (integer or decimal)\n",
    "        num_str = re.findall(r'[\\d\\.]+', area_str_no_commas)[0]\n",
    "        return float(num_str)\n",
    "    except (IndexError, ValueError):\n",
    "        # If no number is found (e.g., \"N/A\")\n",
    "        return pd.NA"
   ]
  },
  {
   "cell_type": "code",
   "execution_count": 5,
   "id": "160517a1",
   "metadata": {},
   "outputs": [
    {
     "name": "stdout",
     "output_type": "stream",
     "text": [
      "<class 'pandas.core.frame.DataFrame'>\n",
      "Index: 1440 entries, 0 to 1444\n",
      "Data columns (total 6 columns):\n",
      " #   Column        Non-Null Count  Dtype  \n",
      "---  ------        --------------  -----  \n",
      " 0   sector        1440 non-null   int64  \n",
      " 1   Title         1440 non-null   object \n",
      " 2   size          1440 non-null   int64  \n",
      " 3   Area_SqFt     1440 non-null   float64\n",
      " 4   Price_Rupees  1440 non-null   float64\n",
      " 5   link          1440 non-null   object \n",
      "dtypes: float64(2), int64(2), object(2)\n",
      "memory usage: 78.8+ KB\n",
      "None\n",
      "   sector                       Title  size  Area_SqFt  Price_Rupees  \\\n",
      "0     102                 ROF AALAYAS     1      403.0     3800000.0   \n",
      "1     102                 ROF AALAYAS     1      430.0     3725000.0   \n",
      "2     102                 ROF AALAYAS     1      410.0     3750000.0   \n",
      "3     102  SIGNATURE GLOBAL CITY 7...     1     1325.0    17200000.0   \n",
      "4     102      CONSCIENT HERITAGE MAX     1      200.0     2000000.0   \n",
      "\n",
      "                                                link  \n",
      "0  https://www.99acres.com/1-bhk-bedroom-apartmen...  \n",
      "1  https://www.99acres.com/1-bhk-bedroom-apartmen...  \n",
      "2  https://www.99acres.com/1-bhk-bedroom-apartmen...  \n",
      "3  https://www.99acres.com/3-bhk-bedroom-independ...  \n",
      "4  https://www.99acres.com/1-bhk-bedroom-apartmen...  \n",
      "\n",
      "Clean data saved to gurugram_properties_clean.xlsx\n"
     ]
    }
   ],
   "source": [
    "# Apply the cleaning functions\n",
    "df['Price_Rupees'] = df['Price'].apply(clean_price)\n",
    "df['Area_SqFt'] = df['Area_SqFt'].apply(clean_area)\n",
    "\n",
    "# # Drop rows where we couldn't clean the data properly\n",
    "df.dropna(subset=['Price_Rupees', 'Area_SqFt'], inplace=True)\n",
    "\n",
    "# # Select and rename columns for the final clean dataset\n",
    "df_clean = df[['sector', 'Title','size', 'Area_SqFt', 'Price_Rupees','link']].copy()\n",
    "df_clean = df_clean.dropna()\n",
    "\n",
    "# print(\"\\nCleaned Data:\")\n",
    "print(df_clean.info())\n",
    "print(df_clean.head())\n",
    "\n",
    "# Save the cleaned data to a new CSV file\n",
    "df_clean.to_excel('gurugram_property_clean.xlsx', index=False)\n",
    "print(\"\\nClean data saved to gurugram_properties_clean.xlsx\")"
   ]
  },
  {
   "cell_type": "code",
   "execution_count": null,
   "id": "40c3cbec",
   "metadata": {},
   "outputs": [],
   "source": []
  }
 ],
 "metadata": {
  "kernelspec": {
   "display_name": "base",
   "language": "python",
   "name": "python3"
  },
  "language_info": {
   "codemirror_mode": {
    "name": "ipython",
    "version": 3
   },
   "file_extension": ".py",
   "mimetype": "text/x-python",
   "name": "python",
   "nbconvert_exporter": "python",
   "pygments_lexer": "ipython3",
   "version": "3.12.3"
  }
 },
 "nbformat": 4,
 "nbformat_minor": 5
}
