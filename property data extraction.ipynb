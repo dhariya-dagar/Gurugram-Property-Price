{
 "cells": [
  {
   "cell_type": "code",
   "execution_count": 1,
   "id": "3c28f6ba",
   "metadata": {},
   "outputs": [],
   "source": [
    "from bs4 import BeautifulSoup"
   ]
  },
  {
   "cell_type": "code",
   "execution_count": null,
   "id": "75c82e1d",
   "metadata": {},
   "outputs": [
    {
     "name": "stderr",
     "output_type": "stream",
     "text": [
      "<string>:5: SyntaxWarning: invalid escape sequence '\\{'\n",
      "<>:5: SyntaxWarning: invalid escape sequence '\\{'\n",
      "<>:5: SyntaxWarning: invalid escape sequence '\\p'\n",
      "<string>:5: SyntaxWarning: invalid escape sequence '\\{'\n",
      "<>:5: SyntaxWarning: invalid escape sequence '\\{'\n",
      "<>:5: SyntaxWarning: invalid escape sequence '\\p'\n",
      "C:\\Users\\dhari\\AppData\\Local\\Temp\\ipykernel_17500\\3315935865.py:5: SyntaxWarning: invalid escape sequence '\\{'\n",
      "  with open (f\"D:\\power Bi project\\gurugram property\\scrape html\\{bhk}in{sector}.html\",\"r\") as f:\n",
      "C:\\Users\\dhari\\AppData\\Local\\Temp\\ipykernel_17500\\3315935865.py:5: SyntaxWarning: invalid escape sequence '\\p'\n",
      "  with open (f\"D:\\power Bi project\\gurugram property\\scrape html\\{bhk}in{sector}.html\",\"r\") as f:\n"
     ]
    }
   ],
   "source": [
    "# loading html file to beatifulSoup\n",
    "properties_data=[]\n",
    "for sector in range(102,118):\n",
    "    for bhk in range(1,5):\n",
    "            with open (f\"D:\\power Bi project\\gurugram property\\scrape html\\{bhk}in{sector}.html\",\"r\") as f:\n",
    "                html_doc = f.read()\n",
    "            soup = BeautifulSoup(html_doc, \"html.parser\")\n",
    "            # finding all the property cards\n",
    "            property_cards = soup.find_all('div', class_='resBuy__tupleWrap onlyTuple')\n",
    "            # finding all the required information from the property cards\n",
    "            for card in property_cards:\n",
    "                try:\n",
    "                    title = card.find('div', class_='resBuy__locationName ellipsis').text.strip()\n",
    "                    price = card.find('div', class_='resBuy__priceValWrap').text.strip()\n",
    "                    area = card.find('span', class_='resBuy__area1Type').text.strip()\n",
    "                    link_tag=card.find(\"a\")\n",
    "                    link=(link_tag['href'])\n",
    "                    properties_data.append({\n",
    "                        'sector':(sector),\n",
    "                        'size':(bhk),\n",
    "                        'Title': title,\n",
    "                        'Price': price,\n",
    "                        'Area_SqFt': area,\n",
    "                        'link':link\n",
    "\n",
    "                    })\n",
    "                except AttributeError:\n",
    "                    # Skip cards that don't have all the information (e.g., ads)\n",
    "                    continue"
   ]
  },
  {
   "cell_type": "code",
   "execution_count": null,
   "id": "659e71a3",
   "metadata": {},
   "outputs": [],
   "source": [
    "# saving final data in excell\n",
    "import pandas as pd\n",
    "df = pd.DataFrame(properties_data)\n",
    "df.to_excel('gurugram_property.xlsx', index=False)"
   ]
  },
  {
   "cell_type": "code",
   "execution_count": null,
   "id": "0546f118",
   "metadata": {},
   "outputs": [],
   "source": []
  }
 ],
 "metadata": {
  "kernelspec": {
   "display_name": "base",
   "language": "python",
   "name": "python3"
  },
  "language_info": {
   "codemirror_mode": {
    "name": "ipython",
    "version": 3
   },
   "file_extension": ".py",
   "mimetype": "text/x-python",
   "name": "python",
   "nbconvert_exporter": "python",
   "pygments_lexer": "ipython3",
   "version": "3.12.3"
  }
 },
 "nbformat": 4,
 "nbformat_minor": 5
}
